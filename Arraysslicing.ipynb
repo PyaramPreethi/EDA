{
 "cells": [
  {
   "cell_type": "code",
   "execution_count": 13,
   "id": "06b9c4ea-0e1b-4907-86c2-83be56c1beb6",
   "metadata": {},
   "outputs": [
    {
     "name": "stdout",
     "output_type": "stream",
     "text": [
      "[ 5  0  3 11]\n",
      "[ 0 11]\n",
      "[11  3  0  5]\n",
      "[ 0 11]\n",
      "[5 0 4]\n",
      "[5 4]\n",
      "[ 5  0  4 11]\n"
     ]
    }
   ],
   "source": [
    "import numpy as np\n",
    "np.random.seed(0)\n",
    "x1=np.random.randint(12,size=(4))\n",
    "print(x1)\n",
    "print(x1[1::2])\n",
    "print(x1[::-1])\n",
    "print(x1[1:4:2])\n",
    "x1[2]=4\n",
    "print(x1[:3:1])\n",
    "print(x1[::2])\n",
    "print(x1)"
   ]
  },
  {
   "cell_type": "code",
   "execution_count": 6,
   "id": "8cd0f38d-6f8d-4595-8e02-8831b9ad5017",
   "metadata": {},
   "outputs": [
    {
     "name": "stdout",
     "output_type": "stream",
     "text": [
      "[[4 5 0]\n",
      " [3 3 3]\n",
      " [1 3 5]]\n",
      "[4 3 1]\n",
      "[4 5 0]\n",
      "[[4 5 0]\n",
      " [3 3 3]\n",
      " [1 3 5]]\n"
     ]
    }
   ],
   "source": [
    "import numpy as np\n",
    "np.random.seed(0)\n",
    "x2=np.random.randint(6,size=(3,3))\n",
    "print(x2)\n",
    "print(x2[:,0])\n",
    "print(x2[0,:])\n",
    "print(x2[:,])"
   ]
  },
  {
   "cell_type": "code",
   "execution_count": 15,
   "id": "a752d7ef-2cb8-466f-9874-c39705c249bf",
   "metadata": {},
   "outputs": [
    {
     "name": "stdout",
     "output_type": "stream",
     "text": [
      "[[5 0 3]\n",
      " [3 7 3]\n",
      " [5 2 4]]\n",
      "[[5 0 3]]\n",
      "[5 0 3]\n"
     ]
    }
   ],
   "source": [
    "import numpy as np\n",
    "np.random.seed(0)\n",
    "x3=np.random.randint(9,size=(3,3))\n",
    "print(x3)\n",
    "print(x3[::3])\n",
    "print(x3[0,:])"
   ]
  },
  {
   "cell_type": "code",
   "execution_count": 1,
   "id": "aaa70fcd-1cba-460f-a5ee-9f3e88bc8616",
   "metadata": {},
   "outputs": [
    {
     "name": "stdout",
     "output_type": "stream",
     "text": [
      "[[5 0 3]\n",
      " [3 7 3]\n",
      " [5 2 4]]\n",
      "[3 3 4]\n"
     ]
    }
   ],
   "source": [
    "import numpy as np\n",
    "np.random.seed(0)\n",
    "x3=np.random.randint(9,size=(3,3))\n",
    "print(x3)\n",
    "print(x3[:,2])\n"
   ]
  },
  {
   "cell_type": "code",
   "execution_count": null,
   "id": "9ff6ba3b-2dd3-470c-8143-53ac0c6273cc",
   "metadata": {},
   "outputs": [],
   "source": []
  }
 ],
 "metadata": {
  "kernelspec": {
   "display_name": "Python 3 (ipykernel)",
   "language": "python",
   "name": "python3"
  },
  "language_info": {
   "codemirror_mode": {
    "name": "ipython",
    "version": 3
   },
   "file_extension": ".py",
   "mimetype": "text/x-python",
   "name": "python",
   "nbconvert_exporter": "python",
   "pygments_lexer": "ipython3",
   "version": "3.12.7"
  }
 },
 "nbformat": 4,
 "nbformat_minor": 5
}
