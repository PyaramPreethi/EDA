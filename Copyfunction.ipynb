{
 "cells": [
  {
   "cell_type": "code",
   "execution_count": 2,
   "id": "f6e97237-b4a6-4930-a070-d1f13b27b51d",
   "metadata": {},
   "outputs": [
    {
     "name": "stdout",
     "output_type": "stream",
     "text": [
      "[5 0 3 3 7]\n",
      "[5 0 3 3]\n"
     ]
    }
   ],
   "source": [
    "import numpy as np\n",
    "np.random.seed(0)\n",
    "x1=np.random.randint(9,size=(5))\n",
    "print(x1)\n",
    "x1_sub=x1[:4]\n",
    "print(x1_sub)"
   ]
  },
  {
   "cell_type": "code",
   "execution_count": 4,
   "id": "564bf015-b6bc-44b1-9634-041caa32a6b0",
   "metadata": {},
   "outputs": [
    {
     "name": "stdout",
     "output_type": "stream",
     "text": [
      "[ 1  2  3  4  5  6  7  8  9 10]\n"
     ]
    }
   ],
   "source": [
    "import numpy as np\n",
    "np.random.seed(0)\n",
    "grid=np.arange(1,11)\n",
    "print(grid)"
   ]
  },
  {
   "cell_type": "code",
   "execution_count": 5,
   "id": "a9bb2b2a-d965-4edd-a15f-6db7448310bc",
   "metadata": {},
   "outputs": [
    {
     "name": "stdout",
     "output_type": "stream",
     "text": [
      "[ 1  2  3  4  5  6  7  8  9 10]\n",
      "[1 2 4 5 3 6 7 9]\n"
     ]
    }
   ],
   "source": [
    "import numpy as np\n",
    "np.random.seed(0)\n",
    "grid=np.arange(1,11)\n",
    "print(grid)\n",
    "grid_1=np.array([1,2,4,5,3,6,7,9])\n",
    "print(grid_1)"
   ]
  },
  {
   "cell_type": "code",
   "execution_count": 18,
   "id": "ab1ad755-279e-45e0-867d-b7ca5579e588",
   "metadata": {},
   "outputs": [
    {
     "name": "stdout",
     "output_type": "stream",
     "text": [
      "[[1 2 3]\n",
      " [4 5 6]\n",
      " [7 8 9]]\n",
      "[1 2 4 5 3 6 7 9]\n",
      "[[1 2 4 5 3 6 7 9]]\n"
     ]
    },
    {
     "data": {
      "text/plain": [
       "array([[[1, 2, 3],\n",
       "        [4, 5, 6],\n",
       "        [7, 8, 9]]])"
      ]
     },
     "execution_count": 18,
     "metadata": {},
     "output_type": "execute_result"
    }
   ],
   "source": [
    "import numpy as np\n",
    "np.random.seed(0)\n",
    "grid=np.arange(1,10).reshape(3,3)\n",
    "print(grid)\n",
    "grid_1=np.array([1,2,4,5,3,6,7,9])\n",
    "print(grid_1)\n",
    "print(grid_1.reshape(1,8))  #it will give elements\n",
    "grid[np.newaxis,:]\n"
   ]
  },
  {
   "cell_type": "raw",
   "id": "8cb2e617-ffa7-4517-a113-a440924ec75e",
   "metadata": {},
   "source": []
  },
  {
   "cell_type": "code",
   "execution_count": 19,
   "id": "11243a83-4e0c-4550-a345-ca31bd27a15f",
   "metadata": {},
   "outputs": [
    {
     "name": "stdout",
     "output_type": "stream",
     "text": [
      "[[1 2 3]\n",
      " [4 5 6]\n",
      " [7 8 9]]\n",
      "[1 2 4 5 3 6 7 9]\n",
      "[[1 2 4 5 3 6 7 9]]\n"
     ]
    },
    {
     "data": {
      "text/plain": [
       "array([[1, 2, 3],\n",
       "       [4, 5, 6],\n",
       "       [7, 8, 9]])"
      ]
     },
     "execution_count": 19,
     "metadata": {},
     "output_type": "execute_result"
    }
   ],
   "source": [
    "import numpy as np\n",
    "np.random.seed(0)\n",
    "grid=np.arange(1,10).reshape(3,3)\n",
    "print(grid)\n",
    "grid_1=np.array([1,2,4,5,3,6,7,9])\n",
    "print(grid_1)\n",
    "print(grid_1.reshape(1,8))  #it will give elements\n",
    "grid[:np.newaxis]\n"
   ]
  },
  {
   "cell_type": "code",
   "execution_count": 20,
   "id": "06130bc4-4e82-4d59-b815-3e7c6322d31d",
   "metadata": {},
   "outputs": [
    {
     "name": "stdout",
     "output_type": "stream",
     "text": [
      "[5 0 3 3 7]\n",
      "[5 0 3 3]\n"
     ]
    }
   ],
   "source": [
    "import numpy as np\n",
    "np.random.seed(0)\n",
    "x1=np.random.randint(9,size=(5))\n",
    "print(x1)\n",
    "x1_sub=x1[:4]\n",
    "print(x1_sub)"
   ]
  },
  {
   "cell_type": "code",
   "execution_count": null,
   "id": "2ed5319c-9583-455f-85ae-7698b501b0a8",
   "metadata": {},
   "outputs": [],
   "source": []
  }
 ],
 "metadata": {
  "kernelspec": {
   "display_name": "Python 3 (ipykernel)",
   "language": "python",
   "name": "python3"
  },
  "language_info": {
   "codemirror_mode": {
    "name": "ipython",
    "version": 3
   },
   "file_extension": ".py",
   "mimetype": "text/x-python",
   "name": "python",
   "nbconvert_exporter": "python",
   "pygments_lexer": "ipython3",
   "version": "3.12.7"
  }
 },
 "nbformat": 4,
 "nbformat_minor": 5
}
