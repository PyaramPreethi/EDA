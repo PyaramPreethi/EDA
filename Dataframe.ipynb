{
 "cells": [
  {
   "cell_type": "code",
   "execution_count": 5,
   "id": "7f479513-9c18-44b4-9ae3-6c6dd0a05e1d",
   "metadata": {},
   "outputs": [
    {
     "name": "stdout",
     "output_type": "stream",
     "text": [
      "            population    area\n",
      "NewYork          89314   89314\n",
      "California       76514   76514\n",
      "LosAngles        24913   24913\n",
      "Florida         170132  170132\n",
      "Texas            49068   49068\n",
      "Index(['NewYork', 'California', 'LosAngles', 'Florida', 'Texas'], dtype='object')\n",
      "Index(['population', 'area'], dtype='object')\n",
      "NewYork        89314\n",
      "California     76514\n",
      "LosAngles      24913\n",
      "Florida       170132\n",
      "Texas          49068\n",
      "Name: area, dtype: int64\n"
     ]
    }
   ],
   "source": [
    "\n",
    "\n",
    "import numpy as np\n",
    "import pandas as pd\n",
    "\n",
    "population_dict = {'NewYork': 89314, 'California': 76514, 'LosAngles': 24913, 'Florida': 170132, 'Texas': 49068}\n",
    "area_dict = {'NewYork': 89314, 'California': 76514, 'LosAngles': 24913, 'Florida': 170132, 'Texas': 49068}\n",
    "\n",
    "population = pd.Series(population_dict)  # Convert population_dict to Series\n",
    "area = pd.Series(area_dict)\n",
    "\n",
    "states = pd.DataFrame({'population': population, 'area': area})\n",
    "\n",
    "print(states)\n",
    "print(states.index)\n",
    "print(states.columns)\n",
    "print(states['area'])\n"
   ]
  },
  {
   "cell_type": "code",
   "execution_count": 6,
   "id": "6d5b3ce8-c6f8-4b16-af72-031224b92c5a",
   "metadata": {},
   "outputs": [
    {
     "name": "stdout",
     "output_type": "stream",
     "text": [
      "[{'a': 0, 'b': 0}, {'a': 1, 'b': 2}, {'a': 2, 'b': 4}]\n"
     ]
    },
    {
     "data": {
      "text/plain": [
       "Index([2, 5, 11], dtype='int64')"
      ]
     },
     "execution_count": 6,
     "metadata": {},
     "output_type": "execute_result"
    }
   ],
   "source": [
    "import numpy as np\n",
    "import pandas as pd\n",
    "data=[{'a':i,'b':2*i}for i in range(3)]\n",
    "print(data)\n",
    "pd.DataFrame(data)\n",
    "pd.DataFrame([{'a':1,'b':2},{'b':3,'c':4}])\n",
    "pd.DataFrame(np.random.rand(3,2),columns=['foo','bar'],index=['a','b','c'])\n",
    "\n",
    "A=np.zeros(3,dtype=[('A','i8'),('B','f8')])\n",
    "pd.DataFrame(A)\n",
    "#Index objects these are the structures that label the rows or rows and colmns it constructs an index and these are immutable arrays of labels basically used for labelling and aligning the data\n",
    "ind=pd.Index([2,3,5,7,11])\n",
    "ind[1]\n",
    "ind[::2]"
   ]
  },
  {
   "cell_type": "code",
   "execution_count": null,
   "id": "eb87b693-9c44-4d50-8753-d9fc95c97451",
   "metadata": {},
   "outputs": [],
   "source": []
  }
 ],
 "metadata": {
  "kernelspec": {
   "display_name": "Python 3 (ipykernel)",
   "language": "python",
   "name": "python3"
  },
  "language_info": {
   "codemirror_mode": {
    "name": "ipython",
    "version": 3
   },
   "file_extension": ".py",
   "mimetype": "text/x-python",
   "name": "python",
   "nbconvert_exporter": "python",
   "pygments_lexer": "ipython3",
   "version": "3.12.7"
  }
 },
 "nbformat": 4,
 "nbformat_minor": 5
}
