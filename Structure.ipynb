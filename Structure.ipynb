{
 "cells": [
  {
   "cell_type": "code",
   "execution_count": 12,
   "id": "da12cb23-b19c-439b-abe2-cebec96ec561",
   "metadata": {},
   "outputs": [
    {
     "name": "stdout",
     "output_type": "stream",
     "text": [
      "[0 0 0 0]\n",
      "[('name', '<U10'), ('age', '<i4'), ('weight', '<f8')]\n",
      "[('', 0, 0.) ('', 0, 0.) ('', 0, 0.) ('', 0, 0.)]\n"
     ]
    },
    {
     "data": {
      "text/plain": [
       "array(['alice', 'doug'], dtype='<U10')"
      ]
     },
     "execution_count": 12,
     "metadata": {},
     "output_type": "execute_result"
    }
   ],
   "source": [
    "import numpy as np\n",
    "name=['alice','Bob','cathy','doug']\n",
    "#structured data provides efficient storage for compound heterogeneous data \n",
    "#when we have several categorical data we will be using structured data in which each element is record with multiple fields\n",
    "age=[25,45,37,19]\n",
    "weight=[55.0,85.5,68.0,61.5]\n",
    "x=np.zeros(4,dtype=int)\n",
    "print(x)\n",
    "#use a compound data type or structured arrays\n",
    "data=np.zeros(4,dtype={'names':('name','age','weight'),'formats':('U10','i4','f8')})\n",
    "print(data.dtype)\n",
    "print(data)\n",
    "data['name']=name\n",
    "data['age']=age\n",
    "data['weight']=weight\n",
    "#unicode string of length 10-U10\n",
    "#I4-4byte integer\n",
    "#f8-float\n",
    "data[0]\n",
    "data[-1]['name']\n",
    "data[data['age'] < 30]['name']\n"
   ]
  },
  {
   "cell_type": "code",
   "execution_count": 16,
   "id": "2af265dd-214c-4fd7-a155-1ead6a394431",
   "metadata": {},
   "outputs": [
    {
     "data": {
      "text/plain": [
       "dtype([('f0', 'S10'), ('f1', '<i4'), ('f2', '<f8')])"
      ]
     },
     "execution_count": 16,
     "metadata": {},
     "output_type": "execute_result"
    }
   ],
   "source": [
    "#Creating the Structured array\n",
    "#strcuctured an be created using dic or set of tuples\n",
    "np.dtype({'names':('name','age','weight'),'formats':('U10','i4','f8')})\n",
    "np.dtype({'names':('name','age','weight'),'formats':((np.str_,10),int ,np.float32)})\n",
    "np.dtype([('name','S10'),('age','i4'),('weight','f8')])\n",
    "np.dtype('S10,i4,f8')\n",
    "#it is for multi byte data like integer or float and it describes byte order\n",
    "#<-little indian\n",
    "#which will put the least significant bit first \n",
    "#>-bigindian\n",
    "#which will put the most significant bit first \n"
   ]
  },
  {
   "cell_type": "code",
   "execution_count": 21,
   "id": "2f69a20e-2fb0-4cff-b368-b24c76b621fa",
   "metadata": {},
   "outputs": [
    {
     "name": "stdout",
     "output_type": "stream",
     "text": [
      "(0, [[0., 0., 0.], [0., 0., 0.], [0., 0., 0.]])\n",
      "[[0. 0. 0.]\n",
      " [0. 0. 0.]\n",
      " [0. 0. 0.]]\n"
     ]
    }
   ],
   "source": [
    "#more advanced compound types\n",
    "import numpy as np\n",
    "tp=np.dtype([('id','i8'),('mat','f8',(3,3))])\n",
    "x=np.zeros(1,dtype=tp)\n",
    "print(x[0])\n",
    "print(x['mat'][0])"
   ]
  },
  {
   "cell_type": "code",
   "execution_count": null,
   "id": "39d8dc30-8170-4e2a-a266-a0d8d745a16d",
   "metadata": {},
   "outputs": [],
   "source": []
  },
  {
   "cell_type": "code",
   "execution_count": null,
   "id": "645af6c7-d888-4d8f-972c-0590ae9e2714",
   "metadata": {},
   "outputs": [],
   "source": []
  }
 ],
 "metadata": {
  "kernelspec": {
   "display_name": "Python 3 (ipykernel)",
   "language": "python",
   "name": "python3"
  },
  "language_info": {
   "codemirror_mode": {
    "name": "ipython",
    "version": 3
   },
   "file_extension": ".py",
   "mimetype": "text/x-python",
   "name": "python",
   "nbconvert_exporter": "python",
   "pygments_lexer": "ipython3",
   "version": "3.12.7"
  }
 },
 "nbformat": 4,
 "nbformat_minor": 5
}
