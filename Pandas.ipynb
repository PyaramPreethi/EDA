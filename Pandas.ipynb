{
 "cells": [
  {
   "cell_type": "code",
   "execution_count": 8,
   "id": "d72f8fa5-47e6-446f-9541-cc0fa447bd86",
   "metadata": {},
   "outputs": [
    {
     "name": "stdout",
     "output_type": "stream",
     "text": [
      "[ 1 25 67 89 34]\n",
      "RangeIndex(start=0, stop=5, step=1)\n",
      "25\n",
      "1    25\n",
      "2    67\n",
      "dtype: int64\n",
      "3\n",
      "12\n"
     ]
    },
    {
     "name": "stderr",
     "output_type": "stream",
     "text": [
      "C:\\Users\\preethi\\AppData\\Local\\Temp\\ipykernel_21720\\573995777.py:13: FutureWarning: Series.__getitem__ treating keys as positions is deprecated. In a future version, integer keys will always be treated as labels (consistent with DataFrame behavior). To access a value by position, use `ser.iloc[pos]`\n",
      "  print(data[0])\n"
     ]
    }
   ],
   "source": [
    "import numpy as np\n",
    "import pandas as pd\n",
    "data=pd.Series([1,25,67,89,34])\n",
    "print(data.values)\n",
    "print(data.index)\n",
    "print(data[1])\n",
    "print(data[1:3])\n",
    "\n",
    "#series with custom index\n",
    "data=pd.Series([12,3,45,65,78,43,23],\n",
    "               index=['a','b','c','d','e','f','g'])\n",
    "print(data['b'])\n",
    "print(data[0])"
   ]
  },
  {
   "cell_type": "code",
   "execution_count": 9,
   "id": "e1bee17d-d84c-4e80-84a7-4d376b1b9baf",
   "metadata": {},
   "outputs": [
    {
     "name": "stdout",
     "output_type": "stream",
     "text": [
      "[0.25 0.5  0.75 1.  ] RangeIndex(start=0, stop=4, step=1) 0.5 1    0.50\n",
      "2    0.75\n",
      "dtype: float64\n",
      "2    0.25\n",
      "3    0.50\n",
      "5    0.75\n",
      "1    1.00\n",
      "dtype: float64\n",
      "1.0\n",
      "0.75\n",
      "0.25\n",
      "{'a': 10, 'b': 20, 'c': 30, 'd': 40, 'e': 50}\n",
      "a\n"
     ]
    }
   ],
   "source": [
    "import numpy as np\n",
    "import pandas as pd\n",
    "#--pandas series object--\n",
    "data=pd.Series([0.25,0.5,0.75,1.0])\n",
    "print(data.values,data.index,data[1],data[1:3])\n",
    "#----Series---- with custom index\n",
    "data=pd.Series([0.25,0.5,0.75,1.0],index=['a','b','c','d'])\n",
    "data['b']\n",
    "#-----Series---- with non contiguos index\n",
    "data=pd.Series([0.25,0.5,0.75,1.0],index=[2,3,5,1])\n",
    "print(data)\n",
    "print(data[1])\n",
    "print(data.loc[5])\n",
    "print(data.iloc[0])\n",
    "#print(data['b':'d'])    error  cannot do slice indexing on Index with these indexers [b] of type str\n",
    "#print(data[0])  error  works but working msg there is no index\n",
    "#Series form dictionary\n",
    "dict={'a':10,'b':20,'c':30,'d':40,'e':50}\n",
    "print(dict)\n",
    "print('a')"
   ]
  },
  {
   "cell_type": "code",
   "execution_count": 11,
   "id": "1a669483-361c-4013-b0dd-7d9ce0c9923e",
   "metadata": {},
   "outputs": [
    {
     "data": {
      "text/plain": [
       "California    76514\n",
       "LosAngeles    24913\n",
       "Florida       21890\n",
       "dtype: int64"
      ]
     },
     "execution_count": 11,
     "metadata": {},
     "output_type": "execute_result"
    }
   ],
   "source": [
    "population_dict={'NewYork':89314,\n",
    "            'California':76514,\n",
    "            'LosAngeles':24913,\n",
    "            'Florida':21890,\n",
    "            'Texas':49068}\n",
    "#use prints\n",
    "population_dict\n",
    "population=pd.Series(population_dict)\n",
    "population['California']\n",
    "population['California':'Florida']"
   ]
  },
  {
   "cell_type": "code",
   "execution_count": 12,
   "id": "3897cdf4-5ddf-4dcf-84ae-765c39499de5",
   "metadata": {},
   "outputs": [
    {
     "data": {
      "text/plain": [
       "3    c\n",
       "2    a\n",
       "dtype: object"
      ]
     },
     "execution_count": 12,
     "metadata": {},
     "output_type": "execute_result"
    }
   ],
   "source": [
    "pd.Series([2,4,6])\n",
    "pd.Series(5,index=[100,200,300])\n",
    "pd.Series({2:'a',1:'b',3:'c'})\n",
    "pd.Series({2:'a',1:'b',3:'c'},index=[3,2])"
   ]
  },
  {
   "cell_type": "code",
   "execution_count": 1,
   "id": "b88670a0-81c2-4058-bba9-10f71e65f57a",
   "metadata": {},
   "outputs": [
    {
     "data": {
      "text/plain": [
       "0    1.0\n",
       "1    NaN\n",
       "2    2.0\n",
       "3    NaN\n",
       "dtype: float64"
      ]
     },
     "execution_count": 1,
     "metadata": {},
     "output_type": "execute_result"
    }
   ],
   "source": [
    "import numpy as np\n",
    "import pandas as pd\n",
    "#nan in numpy arrays\n",
    "vals2=np.array([1,np.nan,3,4])\n",
    "vals2.dtype\n",
    "#arithmatic with nan\n",
    "1+np.nan\n",
    "0+np.nan\n",
    "#aggregation with nan\n",
    "vals2.sum(), vals2.min(), vals2.max()\n",
    "#nan and none in pandas\n",
    "pd.Series([1,np.nan,2,None])"
   ]
  },
  {
   "cell_type": "code",
   "execution_count": 3,
   "id": "e84fc717-27a5-411a-8ef4-5f7506a85926",
   "metadata": {},
   "outputs": [
    {
     "name": "stdout",
     "output_type": "stream",
     "text": [
      "0        1\n",
      "1      NaN\n",
      "2    hello\n",
      "3     None\n",
      "dtype: object\n",
      "0    False\n",
      "1     True\n",
      "2    False\n",
      "3     True\n",
      "dtype: bool\n",
      "0     True\n",
      "1    False\n",
      "2     True\n",
      "3    False\n",
      "dtype: bool\n",
      "   0    1    2\n",
      "0  1  NaN  2.0\n",
      "1  3  4.0  NaN\n",
      "2  5  6.0  7.0\n",
      "   0    1    2\n",
      "2  5  6.0  7.0\n",
      "   0\n",
      "0  1\n",
      "1  3\n",
      "2  5\n",
      "   0    1    2\n",
      "0  1  NaN  2.0\n",
      "1  3  4.0  NaN\n",
      "2  5  6.0  7.0\n"
     ]
    }
   ],
   "source": [
    "import numpy as np\n",
    "import pandas as pd\n",
    "data=pd.Series([1,np.nan,'hello',None])\n",
    "print(data)\n",
    "print(data.isnull())\n",
    "print(data.notnull())\n",
    "data[data.isnull()]\n",
    "data[data.notnull()]\n",
    "df=pd.DataFrame([[1,np.nan,2],\n",
    "                [3,4,np.nan],\n",
    "                [5,6,7]])\n",
    "print(df)\n",
    "print(df.dropna())\n",
    "print(df.dropna(axis=1))#dropping the columns which consist of nan values\n",
    "print(df.dropna(axis=1,how=\"all\"))"
   ]
  },
  {
   "cell_type": "code",
   "execution_count": null,
   "id": "40dca73f-6a2d-4ae6-84f6-8a8abe2948b4",
   "metadata": {},
   "outputs": [],
   "source": []
  }
 ],
 "metadata": {
  "kernelspec": {
   "display_name": "Python 3 (ipykernel)",
   "language": "python",
   "name": "python3"
  },
  "language_info": {
   "codemirror_mode": {
    "name": "ipython",
    "version": 3
   },
   "file_extension": ".py",
   "mimetype": "text/x-python",
   "name": "python",
   "nbconvert_exporter": "python",
   "pygments_lexer": "ipython3",
   "version": "3.12.7"
  }
 },
 "nbformat": 4,
 "nbformat_minor": 5
}
