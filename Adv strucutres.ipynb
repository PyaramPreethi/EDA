{
 "cells": [
  {
   "cell_type": "code",
   "execution_count": null,
   "id": "f6c3c3bd-49b6-469a-ac6b-514f25983acd",
   "metadata": {},
   "outputs": [],
   "source": []
  }
 ],
 "metadata": {
  "kernelspec": {
   "display_name": "",
   "name": ""
  },
  "language_info": {
   "name": ""
  }
 },
 "nbformat": 4,
 "nbformat_minor": 5
}
