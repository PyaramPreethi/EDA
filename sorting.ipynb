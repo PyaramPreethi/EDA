{
 "cells": [
  {
   "cell_type": "code",
   "execution_count": 11,
   "id": "330c70cb-cd62-4b48-83e6-41c7694a072e",
   "metadata": {},
   "outputs": [
    {
     "name": "stdout",
     "output_type": "stream",
     "text": [
      "[1 2 4 3 5]\n"
     ]
    }
   ],
   "source": [
    "import numpy as np\n",
    "#sortingarray\n",
    "x=np.array([2,1,4,3,5])\n",
    "#simple selection sort\n",
    "def selection_sort(x):\n",
    "    for i in range(len(x)):\n",
    "        swap=i+np.argmin(x[i:])\n",
    "        (x[i],x[swap])=(x[swap],x[i])\n",
    "        return x\n",
    "print(selection_sort(x))"
   ]
  },
  {
   "cell_type": "code",
   "execution_count": 7,
   "id": "aa5c4687-357f-45ac-b572-60ad94512a96",
   "metadata": {},
   "outputs": [
    {
     "data": {
      "text/plain": [
       "array([2, 1, 3, 5, 4])"
      ]
     },
     "execution_count": 7,
     "metadata": {},
     "output_type": "execute_result"
    }
   ],
   "source": [
    "\n",
    "import numpy as np\n",
    "#sortingarray\n",
    "x=np.array([2,1,4,3,5])\n",
    "def bogosort(x):\n",
    "    while np.any(x[:-1]>x[1:]):\n",
    "        np.random.shuffle(x)\n",
    "        return x\n",
    "bogosort(x)      \n",
    "#complexity(n*n!)"
   ]
  },
  {
   "cell_type": "code",
   "execution_count": 12,
   "id": "fcc717b1-f8fd-4119-a27e-5500f9fcb6e0",
   "metadata": {},
   "outputs": [
    {
     "name": "stdout",
     "output_type": "stream",
     "text": [
      "[1 2 3 4 5]\n"
     ]
    },
    {
     "data": {
      "text/plain": [
       "array([1, 2, 4, 5, 6])"
      ]
     },
     "execution_count": 12,
     "metadata": {},
     "output_type": "execute_result"
    }
   ],
   "source": [
    "import numpy as np\n",
    "#sortingarray\n",
    "x=np.array([2,1,4,3,5])\n",
    "np.sort(x)\n",
    "x.sort()\n",
    "print(x)\n",
    "x=np.array([2,1,4,5,6])\n",
    "i=np.argsort(x)\n",
    "x[i]\n",
    "#complexity(O(nlogn))\n",
    "#it is based on quick sort\n",
    "#inplace-like sort array(here index is not specified)\n"
   ]
  },
  {
   "cell_type": "code",
   "execution_count": null,
   "id": "6475cade-d22b-4e6b-873e-8a41e711a27e",
   "metadata": {},
   "outputs": [],
   "source": []
  }
 ],
 "metadata": {
  "kernelspec": {
   "display_name": "Python 3 (ipykernel)",
   "language": "python",
   "name": "python3"
  },
  "language_info": {
   "codemirror_mode": {
    "name": "ipython",
    "version": 3
   },
   "file_extension": ".py",
   "mimetype": "text/x-python",
   "name": "python",
   "nbconvert_exporter": "python",
   "pygments_lexer": "ipython3",
   "version": "3.12.7"
  }
 },
 "nbformat": 4,
 "nbformat_minor": 5
}
