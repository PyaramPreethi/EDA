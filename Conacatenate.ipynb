{
 "cells": [
  {
   "cell_type": "code",
   "execution_count": 4,
   "id": "84af79cc-fd42-40f9-9d09-5c6b55710d6b",
   "metadata": {},
   "outputs": [
    {
     "data": {
      "text/plain": [
       "array([1, 2, 4, 6, 7, 9])"
      ]
     },
     "execution_count": 4,
     "metadata": {},
     "output_type": "execute_result"
    }
   ],
   "source": [
    "import numpy as np\n",
    "np.random.seed(0)\n",
    "x=np.array([1,2,4])\n",
    "y=np.array([6,7,9])\n",
    "np.concatenate([x,y])  #row wise or vertically"
   ]
  },
  {
   "cell_type": "code",
   "execution_count": 8,
   "id": "67b6da6e-a089-4f44-abc5-deb087c013a0",
   "metadata": {},
   "outputs": [
    {
     "data": {
      "text/plain": [
       "array([1, 2, 4, 6, 7, 9])"
      ]
     },
     "execution_count": 8,
     "metadata": {},
     "output_type": "execute_result"
    }
   ],
   "source": [
    "import numpy as np\n",
    "np.random.seed(0)\n",
    "x=np.array([1,2,4])\n",
    "y=np.array([6,7,9])\n",
    "np.concatenate([x,y],axis=0) #default value is 0"
   ]
  },
  {
   "cell_type": "code",
   "execution_count": 11,
   "id": "a976f0e5-11a1-40db-bb3e-a850fe15c2d2",
   "metadata": {},
   "outputs": [
    {
     "data": {
      "text/plain": [
       "array([[5, 0, 3, 3, 5, 0, 3, 3],\n",
       "       [7, 9, 3, 5, 7, 9, 3, 5],\n",
       "       [2, 4, 7, 6, 2, 4, 7, 6]])"
      ]
     },
     "execution_count": 11,
     "metadata": {},
     "output_type": "execute_result"
    }
   ],
   "source": [
    "import numpy as np\n",
    "np.random.seed(0)\n",
    "x=np.random.randint(10,size=(3,4))\n",
    "y=np.array([6,7,9])\n",
    "np.concatenate([x,x],axis=1) # for column wise"
   ]
  },
  {
   "cell_type": "code",
   "execution_count": 14,
   "id": "03eb03d2-84cd-4896-9bbd-2dba9b2543f0",
   "metadata": {},
   "outputs": [
    {
     "data": {
      "text/plain": [
       "array([[5, 0, 3, 3],\n",
       "       [7, 9, 3, 5],\n",
       "       [2, 4, 7, 6],\n",
       "       [5, 0, 3, 3],\n",
       "       [7, 9, 3, 5],\n",
       "       [2, 4, 7, 6]])"
      ]
     },
     "execution_count": 14,
     "metadata": {},
     "output_type": "execute_result"
    }
   ],
   "source": [
    "import numpy as np\n",
    "np.random.seed(0)\n",
    "x=np.random.randint(10,size=(3,4))\n",
    "y=np.array([6,7,9])\n",
    "np.concatenate([x,x],axis=1) # for column wise\n",
    "np.vstack([x,x])"
   ]
  },
  {
   "cell_type": "code",
   "execution_count": 16,
   "id": "447d733c-e185-4350-8e5f-e843ad1e3593",
   "metadata": {},
   "outputs": [
    {
     "data": {
      "text/plain": [
       "array([[6, 7, 9, 7],\n",
       "       [5, 0, 3, 3],\n",
       "       [7, 9, 3, 5],\n",
       "       [2, 4, 7, 6]])"
      ]
     },
     "execution_count": 16,
     "metadata": {},
     "output_type": "execute_result"
    }
   ],
   "source": [
    "import numpy as np\n",
    "np.random.seed(0)\n",
    "x=np.random.randint(10,size=(3,4))\n",
    "y=np.array([6,7,9,7])\n",
    "np.concatenate([x,x],axis=1) # for column wise\n",
    "np.vstack([y,x])"
   ]
  },
  {
   "cell_type": "code",
   "execution_count": 33,
   "id": "993e44f9-5285-424c-94b1-28f694117d10",
   "metadata": {},
   "outputs": [
    {
     "name": "stdout",
     "output_type": "stream",
     "text": [
      "[[5 0 3 3]\n",
      " [7 9 3 5]\n",
      " [2 4 7 6]]\n"
     ]
    },
    {
     "data": {
      "text/plain": [
       "array([[5, 0, 3, 3, 5, 0, 3, 3],\n",
       "       [7, 9, 3, 5, 7, 9, 3, 5],\n",
       "       [2, 4, 7, 6, 2, 4, 7, 6]])"
      ]
     },
     "execution_count": 33,
     "metadata": {},
     "output_type": "execute_result"
    }
   ],
   "source": [
    "import numpy as np\n",
    "np.random.seed(0)\n",
    "x=np.random.randint(10,size=(3,4))\n",
    "print(x)\n",
    "y=np.array([6,7,9,7])\n",
    "\n",
    "np.concatenate([x,x],axis=1) # for column wise\n"
   ]
  },
  {
   "cell_type": "code",
   "execution_count": 28,
   "id": "e9953545-8ad6-49b8-872b-cdd2721967b5",
   "metadata": {},
   "outputs": [
    {
     "name": "stdout",
     "output_type": "stream",
     "text": [
      "[1 2 3]\n",
      "[4 5]\n",
      "[6 7 8]\n"
     ]
    }
   ],
   "source": [
    "x2=[1,2,3,4,5,6,7,8]\n",
    "a,b,c=np.split(x2,[3,5])\n",
    "print(a)\n",
    "print(b)\n",
    "print(c)"
   ]
  },
  {
   "cell_type": "code",
   "execution_count": 34,
   "id": "5d7a5466-4f84-4ea2-b5bf-4bbfc86fd474",
   "metadata": {},
   "outputs": [
    {
     "name": "stdout",
     "output_type": "stream",
     "text": [
      "x:\n",
      " [[5 0 3 3]\n",
      " [7 9 3 5]\n",
      " [2 4 7 6]]\n",
      "\n",
      "Concatenate column-wise:\n",
      " [[5 0 3 3 5 0 3 3]\n",
      " [7 9 3 5 7 9 3 5]\n",
      " [2 4 7 6 2 4 7 6]]\n",
      "\n",
      "After adding y as column:\n",
      " [[5 0 3 3 6]\n",
      " [7 9 3 5 7]\n",
      " [2 4 7 6 9]]\n"
     ]
    }
   ],
   "source": [
    "import numpy as np\n",
    "np.random.seed(0)\n",
    "\n",
    "x = np.random.randint(10, size=(3,4))\n",
    "print(\"x:\\n\", x)\n",
    "\n",
    "y = np.array([6,7,9])   # must have 3 elements (same as rows in x)\n",
    "\n",
    "# Column-wise concatenate\n",
    "result1 = np.concatenate([x, x], axis=1)\n",
    "print(\"\\nConcatenate column-wise:\\n\", result1)\n",
    "\n",
    "# Add y as a new column\n",
    "result2 = np.hstack([x, y.reshape(-1,1)])\n",
    "print(\"\\nAfter adding y as column:\\n\", result2)\n"
   ]
  },
  {
   "cell_type": "code",
   "execution_count": 40,
   "id": "f8fc0dfe-4738-4937-bdfa-a3e8f9d55e24",
   "metadata": {},
   "outputs": [
    {
     "data": {
      "text/plain": [
       "array([[5, 0, 3, 3, 6],\n",
       "       [7, 9, 3, 5, 7],\n",
       "       [2, 4, 7, 6, 9]])"
      ]
     },
     "execution_count": 40,
     "metadata": {},
     "output_type": "execute_result"
    }
   ],
   "source": [
    "import numpy as np\n",
    "np.random.seed(0)\n",
    "x=np.random.randint(10,size=(3,4))\n",
    "y=np.array([6,7,9])\n",
    "np.concatenate([x,x],axis=1) # for column wise\n",
    "np.hstack([x,y.reshape([-1,1])])\n"
   ]
  },
  {
   "cell_type": "code",
   "execution_count": null,
   "id": "aaca5ba6-395a-4de1-bded-feb5c2d27a56",
   "metadata": {},
   "outputs": [],
   "source": []
  }
 ],
 "metadata": {
  "kernelspec": {
   "display_name": "Python 3 (ipykernel)",
   "language": "python",
   "name": "python3"
  },
  "language_info": {
   "codemirror_mode": {
    "name": "ipython",
    "version": 3
   },
   "file_extension": ".py",
   "mimetype": "text/x-python",
   "name": "python",
   "nbconvert_exporter": "python",
   "pygments_lexer": "ipython3",
   "version": "3.12.7"
  }
 },
 "nbformat": 4,
 "nbformat_minor": 5
}
