{
 "cells": [
  {
   "cell_type": "code",
   "execution_count": 2,
   "id": "dc384af5-630a-485c-886a-6c332499b6a2",
   "metadata": {},
   "outputs": [
    {
     "name": "stdout",
     "output_type": "stream",
     "text": [
      "0020-10-12 00:00:00\n"
     ]
    }
   ],
   "source": [
    "from datetime import datetime,date,timedelta,time\n",
    "from dateutil import parser\n",
    "import numpy as np\n",
    "import pandas as pd\n",
    "import seaborn as sns\n",
    "import matplotlib.pyplot as plt\n",
    "\n",
    "# print(\"Python  datetime examples\")\n",
    "# print(datetime(year=2015,month=7,day=4))\n",
    "# print(date(year=2015,month=7,day=4))\n",
    "# print(time(hour=12,minute=30,second=45))\n",
    "# print(datetime(year=2015,month=7,day=4,hour=12,minute=30,second=45))\n",
    "\n",
    "delta=timedelta(days=100)\n",
    "# print(delta)\n",
    "print(datetime(20,7,4)+timedelta(days=100))"
   ]
  },
  {
   "cell_type": "code",
   "execution_count": null,
   "id": "2a6def1a-2883-4d86-b86d-ff2363cb4672",
   "metadata": {},
   "outputs": [],
   "source": []
  }
 ],
 "metadata": {
  "kernelspec": {
   "display_name": "Python 3 (ipykernel)",
   "language": "python",
   "name": "python3"
  },
  "language_info": {
   "codemirror_mode": {
    "name": "ipython",
    "version": 3
   },
   "file_extension": ".py",
   "mimetype": "text/x-python",
   "name": "python",
   "nbconvert_exporter": "python",
   "pygments_lexer": "ipython3",
   "version": "3.12.7"
  }
 },
 "nbformat": 4,
 "nbformat_minor": 5
}
