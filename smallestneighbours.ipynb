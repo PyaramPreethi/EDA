{
 "cells": [
  {
   "cell_type": "code",
   "execution_count": null,
   "id": "e0f947dc-a72a-4274-9bdd-48fb110c80e6",
   "metadata": {},
   "outputs": [],
   "source": [
    "arr=[9,1,5,3,7,2]\n"
   ]
  }
 ],
 "metadata": {
  "kernelspec": {
   "display_name": "Python 3 (ipykernel)",
   "language": "python",
   "name": "python3"
  },
  "language_info": {
   "codemirror_mode": {
    "name": "ipython",
    "version": 3
   },
   "file_extension": ".py",
   "mimetype": "text/x-python",
   "name": "python",
   "nbconvert_exporter": "python",
   "pygments_lexer": "ipython3",
   "version": "3.12.7"
  }
 },
 "nbformat": 4,
 "nbformat_minor": 5
}
